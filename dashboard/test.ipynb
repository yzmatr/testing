{
 "cells": [
  {
   "cell_type": "code",
   "execution_count": null,
   "id": "4ea87fdd",
   "metadata": {},
   "outputs": [],
   "source": [
    "%load_ext autoreload\n",
    "%autoreload 2"
   ]
  },
  {
   "cell_type": "code",
   "execution_count": null,
   "id": "69477811",
   "metadata": {},
   "outputs": [],
   "source": [
    "from pathlib import Path\n",
    "import os\n",
    "import plotly.express as px\n",
    "import pandas as pd\n",
    "from dashboard.constants import TARGET_SPECIES\n",
    "import dashboard.data as data\n",
    "\n",
    "# Define the project root\n",
    "PROJECT_ROOT = Path(os.getcwd()).parent\n",
    "DEFAULT_CHART_HEIGHT = 400\n",
    "DEFAULT_CHART_MARGIN = dict(t=40, l=100, r=80, b=60)\n",
    "DEFAULT_CHART_COLOR = \"teal\"\n",
    "\n",
    "df, summary = data.get_data(PROJECT_ROOT, TARGET_SPECIES)"
   ]
  },
  {
   "cell_type": "code",
   "execution_count": null,
   "id": "5d3f9ba0",
   "metadata": {},
   "outputs": [],
   "source": [
    "df['species_count'].mean()"
   ]
  },
  {
   "cell_type": "code",
   "execution_count": null,
   "id": "dada0061",
   "metadata": {},
   "outputs": [],
   "source": [
    "# Count the number of species per recording\n",
    "df_species = df.copy()\n",
    "\n",
    "df_two_species = df_species[df_species['species_count'] == 2]\n",
    "\n",
    "combinations_data = []\n",
    "    \n",
    "for idx, species_list in enumerate(df_two_species['sorted_species_names']):\n",
    "    combo = tuple(sorted(species_list))\n",
    "    target_species_in_combo = set(species_list) & set(TARGET_SPECIES)\n",
    "    combination_type = 'target_target' if len(target_species_in_combo) == 2 else 'target_other' if len(target_species_in_combo) == 1 else 'other_other'\n",
    "    \n",
    "    combinations_data.append({\n",
    "        'combination': combo,\n",
    "        'species_1': combo[0],\n",
    "        'species_2': combo[1],\n",
    "        'target_count': len(target_species_in_combo),\n",
    "        'target_species': sorted(list(target_species_in_combo)),\n",
    "        'has_target': len(target_species_in_combo) > 0,\n",
    "        'combination_type': combination_type\n",
    "    })\n",
    "\n",
    "df_pairs = pd.DataFrame(combinations_data)\n",
    "\n",
    "# Get frequency counts\n",
    "\n",
    "\n",
    "\n",
    "df_counts\n"
   ]
  }
 ],
 "metadata": {
  "language_info": {
   "name": "python"
  }
 },
 "nbformat": 4,
 "nbformat_minor": 5
}
