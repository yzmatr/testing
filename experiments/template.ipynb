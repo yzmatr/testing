{
 "cells": [
  {
   "cell_type": "code",
   "execution_count": null,
   "metadata": {},
   "outputs": [],
   "source": [
    "%load_ext autoreload\n",
    "%autoreload 2"
   ]
  },
  {
   "cell_type": "code",
   "execution_count": null,
   "metadata": {},
   "outputs": [],
   "source": [
    "import os\n",
    "import sys\n",
    "from pathlib import Path"
   ]
  },
  {
   "cell_type": "code",
   "execution_count": null,
   "metadata": {},
   "outputs": [],
   "source": [
    "#============================================================================       \n",
    "# Databricks Setup & Variables\n",
    "#============================================================================\n",
    "def is_databricks():\n",
    "    return \"DATABRICKS_RUNTIME_VERSION\" in os.environ\n",
    "\n",
    "IS_DATABRICKS = is_databricks()\n",
    "\n",
    "EXPERIMENT_NAME = \"birdnet48000_averaging_multiclass_aftermergetest\"\n",
    "CURRENT_USER = \"hannah.weng@matrgrou.com.au\"\n",
    "BUNDLE_TARGET =  \"frogid-ml-15species-dbx\"\n",
    "DATABRICKS_PATH = f\"/Workspace/Users/{CURRENT_USER}/{BUNDLE_TARGET}/mlops/\"\n",
    "\n",
    "if IS_DATABRICKS:\n",
    "    sys.path.append(DATABRICKS_PATH)\n",
    "    print(f\"✅ Databricks path: {DATABRICKS_PATH}\")"
   ]
  },
  {
   "cell_type": "code",
   "execution_count": null,
   "metadata": {},
   "outputs": [],
   "source": [
    "import sys\n",
    "import os\n",
    "notebook_path =  '/Workspace/' + os.path.dirname(dbutils.notebook.entry_point.getDbutils().notebook().getContext().notebookPath().get())\n",
    "os.chdir(notebook_path)\n",
    "os.chdir('..')\n",
    "sys.path.append(\"../..\")\n",
    "from mlops.utils.notebook_setup import generate_project_path\n",
    "\n",
    "print('notebook_setup imported successfully')\n",
    "\n",
    "#============================================================================       \n",
    "# Setup Paths & Project\n",
    "#============================================================================\n",
    "\n",
    "ROOT_DIR, DIR_DATA, DIR_AUDIO_FILES, DIR_RAW_DATA, DIR_EMBEDDINGS, DIR_ARTIFACTS, DIR_PROCESSED, FROGID_CSV_PATH, EXPERIEMNT_FULL_NAME, IS_DATABRICKS = generate_project_path(EXPERIMENT_NAME, CURRENT_USER, BUNDLE_TARGET)\n",
    "\n",
    "print(f\"✅ Databricks: {IS_DATABRICKS}\")\n",
    "print(f\"✅ Project root directory: {ROOT_DIR}\")\n",
    "print(f\"📁 CSV Path: {FROGID_CSV_PATH}\")\n",
    "print(f\"📁 Audio Files Path: {DIR_AUDIO_FILES}\")\n",
    "print(f\"📁 Processed Path: {DIR_PROCESSED}\")\n",
    "print(f\"📁 Embeddings Path: {DIR_EMBEDDINGS}\")\n",
    "print(f\"📁 Artifacts Path: {DIR_ARTIFACTS}\")\n",
    "print(f\"📁 Experiment Path: {EXPERIEMNT_FULL_NAME}\")"
   ]
  },
  {
   "cell_type": "code",
   "execution_count": null,
   "metadata": {},
   "outputs": [],
   "source": [
    "#============================================================================\n",
    "# Experiment Parameters & Configurations\n",
    "#============================================================================\n",
    "\n",
    "TARGET_AUDIO_FORMAT = \"wav\"\n",
    "MAX_SAMPLES_PER_CLASS = 1350\n",
    "INCLUDE_OTHER_CATEGORY = True  # Include 16th \"other\" category\n",
    "\n",
    "TARGET_SPECIES = [\n",
    "    \"Rhinella marina\",\n",
    "    \"Crinia signifera\",\n",
    "    \"Limnodynastes peronii\",\n",
    "    \"Litoria moorei\",\n",
    "    \"Litoria fallax\",\n",
    "    \"Limnodynastes tasmaniensis\",\n",
    "    \"Crinia parinsignifera\",\n",
    "    \"Limnodynastes dumerilii\",\n",
    "    \"Litoria caerulea\",\n",
    "    \"Litoria ewingii\",\n",
    "    \"Litoria verreauxii\",\n",
    "    \"Litoria rubella\",\n",
    "    \"Crinia glauerti\",\n",
    "    \"Litoria peronii\",\n",
    "    \"Litoria ridibunda\"\n",
    "]\n",
    "\n",
    "NUM_CLASSES = len(TARGET_SPECIES) + 1 if INCLUDE_OTHER_CATEGORY else len(TARGET_SPECIES)\n",
    "\n",
    "print(f\"🐸 Target species: {len(TARGET_SPECIES)}\")\n",
    "print(f\"🐸 Total classes: {NUM_CLASSES}\")\n",
    "print(f\"🐸 Max samples/class: {MAX_SAMPLES_PER_CLASS}\")"
   ]
  },
  {
   "cell_type": "code",
   "execution_count": null,
   "metadata": {},
   "outputs": [],
   "source": [
    "################################################################################\n",
    "# Data Selection\n",
    "################################################################################\n",
    "from feature_engineering.data_selector import FrogDataSelector, FrogDataSelectorConfig\n",
    "\n",
    "INCLUDE_MULTI_SPECIES = False  # Exclude multi-species for cleaner \"Other\" category analysis\n",
    "SEPARATE_MULTI_SPECIES_OTHER = False  # Keep single \"Other\" category\n",
    "OTHER_SPECIES_BOOST_FACTOR = 3.0  # Increased boost factor for better \"Other\" representation\n",
    "OTHER_SPECIES_MIN_SAMPLES = 15  # Increased minimum samples for more robust analysis\n",
    "\n",
    "# Use the same config as the \n",
    "selector_config_dict = {\n",
    "    'force_rerun': True,\n",
    "    'csv_path': str(FROGID_CSV_PATH),\n",
    "    'target_species': TARGET_SPECIES,\n",
    "    'output_dir': str(DIR_ARTIFACTS / EXPERIMENT_NAME / \"data_input\"),\n",
    "    'allow_duplicates': False,\n",
    "    'allow_inappropriate': False,\n",
    "    'allow_people_activity': False,\n",
    "    'avoid_poor_quality': True,\n",
    "    # Sampling Criteria\n",
    "    'sampling_strategy': 'downsample',\n",
    "    'max_samples_per_class': MAX_SAMPLES_PER_CLASS,\n",
    "    'include_multi_species': INCLUDE_MULTI_SPECIES,\n",
    "    'separate_multi_species_other': SEPARATE_MULTI_SPECIES_OTHER,\n",
    "    'other_species_boost_factor': OTHER_SPECIES_BOOST_FACTOR\n",
    "}\n",
    "\n",
    "selector_config = FrogDataSelectorConfig(**selector_config_dict)\n",
    "selector = FrogDataSelector(selector_config)\n",
    "df = selector.get_dataframe()"
   ]
  }
 ],
 "metadata": {
  "language_info": {
   "name": "python"
  }
 },
 "nbformat": 4,
 "nbformat_minor": 0
}
