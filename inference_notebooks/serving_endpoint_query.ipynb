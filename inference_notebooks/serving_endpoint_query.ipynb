{
 "cells": [
  {
   "cell_type": "markdown",
   "metadata": {},
   "source": [
    "# FrogID Audio Inference Pipeline\n",
    "\n",
    "This notebook demonstrates how to process a single audio file and generate species predictions using a trained FrogID model.\n",
    "\n",
    "**Pipeline Steps:**\n",
    "1. **Setup**: Configure environment and model parameters\n",
    "2. **Load Pipeline**: Get trained model pipeline from MLflow registry\n",
    "3. **Load Model**: Retrieve trained model from registry\n",
    "4. **Process Audio**: Load, preprocess, and extract features from audio file\n",
    "5. **Predict**: Generate species predictions with confidence scores\n"
   ]
  },
  {
   "cell_type": "markdown",
   "metadata": {},
   "source": [
    "## 1. Setup"
   ]
  },
  {
   "cell_type": "code",
   "execution_count": null,
   "metadata": {},
   "outputs": [],
   "source": [
    "%load_ext autoreload\n",
    "%autoreload 2\n",
    "\n",
    "import os\n",
    "import sys\n",
    "from pathlib import Path\n",
    "import mlflow\n",
    "# Setup path\n",
    "ROOT_DIR = Path(os.getcwd()).parent\n",
    "sys.path.insert(0, str(ROOT_DIR))\n"
   ]
  },
  {
   "cell_type": "code",
   "execution_count": null,
   "metadata": {},
   "outputs": [],
   "source": [
    "import sys\n",
    "import os\n",
    "notebook_path =  '/Workspace/' + os.path.dirname(dbutils.notebook.entry_point.getDbutils().notebook().getContext().notebookPath().get())\n",
    "os.chdir(notebook_path)\n",
    "os.chdir('..')\n",
    "sys.path.append(\"../..\")\n",
    "from utils.environment_setup import setup_mlflow\n",
    "\n",
    "# Configuration\n",
    "AUDIO_FILE_PATH = \"/Users/zacharyzhang/Documents/am/frogid-ml-15species-dbx/data/audio_files/5673.wav\"\n",
    "SCHEMA = \"frogid_ml\"\n",
    "MODEL_NAME = \"birdnet-ave-3s-chunk-embeddings_wrapper\"\n",
    "MODEL_ALIAS = \"champion\"\n",
    "\n",
    "# Setup environment\n",
    "IS_DATABRICKS = \"DATABRICKS_RUNTIME_VERSION\" in os.environ\n",
    "ROOT_DIR = Path(os.getcwd()).parent.parent\n",
    "sys.path.insert(0, str(ROOT_DIR))\n",
    "setup_mlflow(ROOT_DIR, IS_DATABRICKS)\n",
    "\n",
    "print(f\"📋 Configuration set - Model: {MODEL_NAME}, Alias: {MODEL_ALIAS}\")\n",
    "print(f\"📁 Audio file: {AUDIO_FILE_PATH}\")\n"
   ]
  },
  {
   "cell_type": "markdown",
   "metadata": {},
   "source": [
    "## 2. Load Pipeline Configuration"
   ]
  },
  {
   "cell_type": "code",
   "execution_count": null,
   "metadata": {},
   "outputs": [],
   "source": [
    "model_name = f\"{SCHEMA}.{MODEL_NAME}\"\n",
    "model_uri = f\"models:/{model_name}@{MODEL_ALIAS}\""
   ]
  },
  {
   "cell_type": "markdown",
   "metadata": {},
   "source": [
    "## 3. Load Model\n"
   ]
  },
  {
   "cell_type": "code",
   "execution_count": null,
   "metadata": {},
   "outputs": [],
   "source": [
    "model = mlflow.pyfunc.load_model(model_uri=model_uri)\n",
    "print(\"✅ Model loaded successfully\")"
   ]
  },
  {
   "cell_type": "markdown",
   "metadata": {},
   "source": [
    "## 5. Generate Predictions\n"
   ]
  },
  {
   "cell_type": "code",
   "execution_count": null,
   "metadata": {},
   "outputs": [],
   "source": [
    "result = model.predict(AUDIO_FILE_PATH)\n",
    "print(result)"
   ]
  }
 ],
 "metadata": {
  "language_info": {
   "name": "python"
  }
 },
 "nbformat": 4,
 "nbformat_minor": 2
}
